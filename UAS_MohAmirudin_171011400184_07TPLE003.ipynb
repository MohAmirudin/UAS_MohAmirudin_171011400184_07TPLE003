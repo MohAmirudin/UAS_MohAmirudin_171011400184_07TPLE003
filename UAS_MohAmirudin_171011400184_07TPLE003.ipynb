{
  "nbformat": 4,
  "nbformat_minor": 0,
  "metadata": {
    "colab": {
      "name": "UAS_MohAmirudin_171011400184_07TPLE003.ipynb",
      "provenance": []
    },
    "kernelspec": {
      "name": "python3",
      "display_name": "Python 3"
    }
  },
  "cells": [
    {
      "cell_type": "code",
      "metadata": {
        "colab": {
          "base_uri": "https://localhost:8080/",
          "height": 665
        },
        "id": "_-s8AaAdhKOk",
        "outputId": "9c0c17d6-030c-4f46-a6a5-245e147421f6"
      },
      "source": [
        "import numpy as np\r\n",
        "import matplotlib.pyplot as plt\r\n",
        "import seaborn as sns\r\n",
        "\r\n",
        "# Game 1\r\n",
        "simulations = 10000  \r\n",
        "games = 1000     \r\n",
        "threshold = 35      \r\n",
        "bet = 1             \r\n",
        "\r\n",
        "# outer loop is Monte Carlo sims and inner loop is games played\r\n",
        "sim_results_1 = []\r\n",
        "for sim in range(simulations):\r\n",
        "    result = []\r\n",
        "    for g in range(games):\r\n",
        "        number = int(np.random.uniform()*100)  \r\n",
        "        if number >= threshold:\r\n",
        "            result.append(bet)\r\n",
        "        else:\r\n",
        "            result.append(-bet)\r\n",
        "    sim_results_1.append(sum(result))          # sim_results_1 stores results for Game 1\r\n",
        "print('Game 1 Mean: ', round(np.mean(sim_results_1), 2))\r\n",
        "print('Game 1 Prob Positive: ', round(sum([1 for i in sim_results_1 if i>0])/simulations, 2))\r\n",
        "print('\\n')\r\n",
        "    \r\n",
        "\r\n",
        "# Game 2 (structure of code is same as above)\r\n",
        "simulations = 10000\r\n",
        "games = 10\r\n",
        "threshold = 40\r\n",
        "bet = 10\r\n",
        "\r\n",
        "sim_results_2 = []\r\n",
        "for sim in range(simulations):\r\n",
        "    result = []\r\n",
        "    for g in range(games):\r\n",
        "        number = int(np.random.uniform()*100)\r\n",
        "        if number >= threshold:\r\n",
        "            result.append(bet)\r\n",
        "        else:\r\n",
        "            result.append(-bet)\r\n",
        "    sim_results_2.append(sum(result))\r\n",
        "print('Game 2 Mean: ', round(np.mean(sim_results_2), 2))\r\n",
        "print('Game 2 Prob Positive: ', round(sum([1 for i in sim_results_2 if i>0])/simulations, 2))\r\n",
        "print('\\n')\r\n",
        "    \r\n",
        "    \r\n",
        "# Game 3 (structure of code is same as above)\r\n",
        "simulations = 10000\r\n",
        "games = 1\r\n",
        "threshold = 40\r\n",
        "bet = 100\r\n",
        "\r\n",
        "sim_results_3 = []\r\n",
        "for sim in range(simulations):\r\n",
        "    result = []\r\n",
        "    for g in range(games):\r\n",
        "        number = int(np.random.uniform()*1000)\r\n",
        "        if number >= threshold:\r\n",
        "            result.append(bet)\r\n",
        "        else:\r\n",
        "            result.append(-bet)\r\n",
        "    sim_results_3.append(sum(result))\r\n",
        "print('Game 3 Mean: ', round(np.mean(sim_results_3), 2))\r\n",
        "print('Game 3 Prob Positive: ', round(sum([1 for i in sim_results_3 if i>0])/simulations, 2))\r\n",
        "\r\n",
        "\r\n",
        "# Histogram that shows the distribution of the Monte Carlo Results for 2 spending levels\r\n",
        "fig, ax = plt.subplots(figsize=(8,6))\r\n",
        "sns.distplot(sim_results_1, kde=False, bins=60, label='Play 5 Times')\r\n",
        "sns.distplot(sim_results_2, kde=False, bins=60, label='Play 3 Times')\r\n",
        "sns.distplot(sim_results_3, kde=False, bins=60, label='Play 2 Time', color='red')\r\n",
        "\r\n",
        "ax.set_xlabel('Money Won by You (The Player)', fontsize=16)\r\n",
        "ax.set_ylabel('Frequency',fontsize=4)\r\n",
        "plt.legend()\r\n",
        "plt.tight_layout()\r\n",
        "\r\n",
        "plt.savefig(fname='game_hist', dpi=15)\r\n",
        "plt.show()"
      ],
      "execution_count": 8,
      "outputs": [
        {
          "output_type": "stream",
          "text": [
            "Game 1 Mean:  300.11\n",
            "Game 1 Prob Positive:  1.0\n",
            "\n",
            "\n",
            "Game 2 Mean:  19.81\n",
            "Game 2 Prob Positive:  0.63\n",
            "\n",
            "\n",
            "Game 3 Mean:  91.72\n",
            "Game 3 Prob Positive:  0.96\n"
          ],
          "name": "stdout"
        },
        {
          "output_type": "stream",
          "text": [
            "/usr/local/lib/python3.6/dist-packages/seaborn/distributions.py:2551: FutureWarning: `distplot` is a deprecated function and will be removed in a future version. Please adapt your code to use either `displot` (a figure-level function with similar flexibility) or `histplot` (an axes-level function for histograms).\n",
            "  warnings.warn(msg, FutureWarning)\n"
          ],
          "name": "stderr"
        },
        {
          "output_type": "display_data",
          "data": {
            "image/png": "[encoded data removed]",
            "text/plain": [
              "<Figure size 576x432 with 1 Axes>"
            ]
          },
          "metadata": {
            "tags": [],
            "needs_background": "light"
          }
        }
      ]
    }
  ]
}